{
 "cells": [
  {
   "cell_type": "code",
   "execution_count": 4,
   "id": "74d6268b",
   "metadata": {},
   "outputs": [],
   "source": [
    "import pandas as pd\n",
    "import plotly.express as px\n",
    "import os\n",
    "from scipy.stats import norm\n",
    "import plotly.graph_objects as go\n",
    "import numpy as np\n",
    "import matplotlib.pyplot as plt"
   ]
  },
  {
   "cell_type": "code",
   "execution_count": 5,
   "id": "0e1b7a92",
   "metadata": {},
   "outputs": [],
   "source": [
    "pd.set_option('display.max_rows', 300)"
   ]
  },
  {
   "cell_type": "code",
   "execution_count": 7,
   "id": "93026428",
   "metadata": {},
   "outputs": [
    {
     "ename": "NameError",
     "evalue": "name 'output_directory' is not defined",
     "output_type": "error",
     "traceback": [
      "\u001b[0;31m---------------------------------------------------------------------------\u001b[0m",
      "\u001b[0;31mNameError\u001b[0m                                 Traceback (most recent call last)",
      "Cell \u001b[0;32mIn[7], line 3\u001b[0m\n\u001b[1;32m      1\u001b[0m \u001b[38;5;66;03m# Create the directory if it doesn't exist\u001b[39;00m\n\u001b[0;32m----> 3\u001b[0m \u001b[38;5;28;01mif\u001b[39;00m \u001b[38;5;129;01mnot\u001b[39;00m os\u001b[38;5;241m.\u001b[39mpath\u001b[38;5;241m.\u001b[39mexists(\u001b[43moutput_directory\u001b[49m):\n\u001b[1;32m      4\u001b[0m     os\u001b[38;5;241m.\u001b[39mmakedirs(output_directory)\n\u001b[1;32m      6\u001b[0m output_directory \u001b[38;5;241m=\u001b[39m \u001b[38;5;124m\"\u001b[39m\u001b[38;5;124manalysis_images\u001b[39m\u001b[38;5;124m\"\u001b[39m\n",
      "\u001b[0;31mNameError\u001b[0m: name 'output_directory' is not defined"
     ]
    }
   ],
   "source": [
    "# Create the directory if it doesn't exist\n",
    "\n",
    "if not os.path.exists(output_directory):\n",
    "    os.makedirs(output_directory)\n",
    "    \n",
    "output_directory = \"analysis_images\"\n"
   ]
  },
  {
   "cell_type": "code",
   "execution_count": null,
   "id": "1cc54cef",
   "metadata": {},
   "outputs": [],
   "source": [
    "#import .csvs\n",
    "reg_season_wins = pd.read_csv('nfl_reg_season_win_loss_records_2011_to_2022.csv')\n",
    "playoff_wins = pd.read_csv('nfl_playoff_win_loss_records_2011_to_2022.csv')\n",
    "superbowl_wins = pd.read_csv('Super_Bowl_Winners.csv')\n",
    "player_salaries = pd.read_csv('nfl_salaries_2011-2022.csv')"
   ]
  },
  {
   "cell_type": "code",
   "execution_count": null,
   "id": "ca638dfb",
   "metadata": {},
   "outputs": [],
   "source": [
    "player_salaries"
   ]
  },
  {
   "cell_type": "code",
   "execution_count": null,
   "id": "2ead040a",
   "metadata": {},
   "outputs": [],
   "source": [
    "#clean and standardize data \n",
    "\n",
    "# Make cap % a float\n",
    "player_salaries['cap_percentage'] = player_salaries['cap_percentage'].astype(float)\n",
    "\n",
    "# clean and standardize team names \n",
    "def clean_team_name(team):\n",
    "    # Special cases\n",
    "    if team == 'new-york-giants':\n",
    "        return 'NY Giants'\n",
    "    elif team == 'new-york-jets':\n",
    "        return 'NY Jets'\n",
    "    elif team == 'los-angeles-rams':\n",
    "        return 'LA Rams'\n",
    "    elif team == 'los-angeles-chargers':\n",
    "        return 'LA Chargers'\n",
    "    else:\n",
    "        parts = team.split('-')\n",
    "    \n",
    "    city_name = parts[:-1]\n",
    "    if city_name[-1] == 'football':\n",
    "        city_name = city_name[:-1]\n",
    "    return ' '.join(word.title() for word in city_name)\n",
    "\n",
    "player_salaries['team'] = player_salaries['team'].apply(clean_team_name)\n",
    "\n",
    "# Standardize cap hit number so it can be manipulated as a number rather than string\n",
    "player_salaries['cap_hit'] = player_salaries['cap_hit'].replace('-', '0', regex=True)            \n",
    "player_salaries['cap_hit'] = player_salaries['cap_hit'].str.replace('$', '', regex=True).str.replace(',', '', regex=True).astype(float)\n",
    "\n",
    "player_salaries\n"
   ]
  },
  {
   "cell_type": "code",
   "execution_count": null,
   "id": "18b8aa1d",
   "metadata": {},
   "outputs": [],
   "source": [
    "reg_season_wins.rename(columns={'Team': 'team', 'Year': 'year'}, inplace=True)\n",
    "\n",
    "reg_season_wins"
   ]
  },
  {
   "cell_type": "code",
   "execution_count": null,
   "id": "1f2c987e",
   "metadata": {},
   "outputs": [],
   "source": [
    "playoff_wins.drop(columns={'Loss', 'Tie'}, inplace=True)\n",
    "\n",
    "playoff_wins.rename(columns={'Team': 'team', 'Year': 'year', 'Win': 'Playoff Wins'}, inplace=True)\n",
    "\n",
    "playoff_wins"
   ]
  },
  {
   "cell_type": "code",
   "execution_count": null,
   "id": "9378d46d",
   "metadata": {},
   "outputs": [],
   "source": [
    "superbowl_wins"
   ]
  },
  {
   "cell_type": "markdown",
   "id": "6fea5f4e",
   "metadata": {},
   "source": [
    "# First analysis: Grab the highest paid player (by percent of cap), bucket them into groups, and determine if theres correlation between the highest paid player and success"
   ]
  },
  {
   "cell_type": "code",
   "execution_count": null,
   "id": "e1f7a8ed",
   "metadata": {},
   "outputs": [],
   "source": [
    "\n",
    "# Use groupby with idxmax to get the index of rows with the highest cap_percentage per year per team\n",
    "idx = player_salaries.groupby(['year', 'team'])['cap_percentage'].idxmax()\n",
    "\n",
    "# Filter the dataframe based on the index\n",
    "highest_paid = player_salaries.loc[idx].reset_index(drop=True)\n",
    "\n",
    "highest_paid"
   ]
  },
  {
   "cell_type": "code",
   "execution_count": null,
   "id": "48a02051",
   "metadata": {},
   "outputs": [],
   "source": [
    "# Plotting a histogram\n",
    "fig_highest_paid = px.histogram(highest_paid, x='cap_percentage', nbins=50, title='highest_paid')\n",
    "fig_highest_paid.show()\n",
    "\n",
    "# Save the graph\n",
    "file_path = os.path.join(output_directory, \"Cap_Hit_for_Most_Expensive_Player\")\n",
    "fig_highest_paid.write_image(file_path, format='png')"
   ]
  },
  {
   "cell_type": "code",
   "execution_count": null,
   "id": "60d606bc",
   "metadata": {},
   "outputs": [],
   "source": [
    "# merge dataframes reg season wins losses with the player salaries df\n",
    "salaries_with_reg_season_wins_df = pd.merge(highest_paid, reg_season_wins, on=['year', 'team'], how='inner')\n",
    "\n",
    "salaries_with_reg_season_wins_df"
   ]
  },
  {
   "cell_type": "code",
   "execution_count": null,
   "id": "d6d9a1b0",
   "metadata": {
    "scrolled": true
   },
   "outputs": [],
   "source": [
    "# merge salaries_with_reg_season_wins_df with postseason wins\n",
    "reg_and_postseason_wins_df = pd.merge(salaries_with_reg_season_wins_df, playoff_wins, on=['year', 'team'], how='left')\n",
    "\n",
    "reg_and_postseason_wins_df['Playoff Wins'] = reg_and_postseason_wins_df['Playoff Wins'].fillna(0)\n",
    "\n",
    "reg_and_postseason_wins_df\n",
    "\n"
   ]
  },
  {
   "cell_type": "code",
   "execution_count": null,
   "id": "463244d9",
   "metadata": {},
   "outputs": [],
   "source": [
    "# merge reg_and_postseason_wins_df and superbowl wins\n",
    "superbowl_wins.columns = ['year', 'team', 'Won Superbowl?']\n",
    "\n",
    "# merge previous with superbowl wins\n",
    "full_season_wins = pd.merge(reg_and_postseason_wins_df, superbowl_wins, on=['year', 'team'], how='left')\n",
    "\n",
    "full_season_wins.fillna(0, inplace=True)\n",
    "\n",
    "full_season_wins\n"
   ]
  },
  {
   "cell_type": "code",
   "execution_count": null,
   "id": "20addc58",
   "metadata": {},
   "outputs": [],
   "source": [
    "# plot cap percentage in relation to wins for the highest paid player on each team since 2011\n",
    "fig_highest_paid_to_wins = px.scatter(full_season_wins, x='cap_percentage', y='Win', hover_data=['name', 'team', 'year'], trendline='ols', trendline_color_override=\"red\", title='Win vs Cap Percentage of Highest Paid Player')\n",
    "# Set custom x-axis title\n",
    "fig_highest_paid_to_wins.update_xaxes(title_text=\"Percent of the cap the most expensive player takes\")\n",
    "fig_highest_paid_to_wins.show()\n",
    "\n",
    "# Save the graph\n",
    "file_path = os.path.join(output_directory, \"Highest_Paid_to_wins\")\n",
    "fig_highest_paid_to_wins.write_image(file_path, format='png')\n",
    "\n"
   ]
  },
  {
   "cell_type": "code",
   "execution_count": null,
   "id": "734dff62",
   "metadata": {},
   "outputs": [],
   "source": [
    "expensive_players = full_season_wins[full_season_wins['cap_percentage'] > 13]\n",
    "total_playoff_wins = expensive_players['Playoff Wins'].sum()\n",
    "\n",
    "print(f'There have been 49 seasons where a player has made more than 13% of a teams cap. This is a collection of the greatest NFL players of the past decade. But they have combined for only {total_playoff_wins} wins and 1 Superbowl win.')\n",
    "expensive_players.head()\n"
   ]
  },
  {
   "cell_type": "code",
   "execution_count": null,
   "id": "578445c0",
   "metadata": {
    "scrolled": true
   },
   "outputs": [],
   "source": [
    "# plot cap percentage in relation to wins for the highest paid player on 10-win teams since 2011\n",
    "playoff_teams_df = full_season_wins.loc[full_season_wins['Win'] >= 10].reset_index(drop=True)\n",
    "\n",
    "\n",
    "fig_highest_paid_to_playoff_wins = px.scatter(playoff_teams_df, x='cap_percentage', y='Playoff Wins', hover_data=['name', 'team', 'year'], title='Playoff Wins vs Cap Percentage')\n",
    "# Update y-axis to display only whole numbers\n",
    "max_val = playoff_teams_df['Playoff Wins'].max()\n",
    "fig_highest_paid_to_playoff_wins.update_yaxes(tickvals=list(range(0, int(max_val) + 1, 1)))\n",
    "fig_highest_paid_to_playoff_wins.show()\n",
    "\n",
    "# Save the graph\n",
    "file_path = os.path.join(output_directory, \"fig_highest_paid_to_playoff_wins\")\n",
    "fig_highest_paid_to_playoff_wins.write_image(file_path, format='png')\n",
    "\n"
   ]
  },
  {
   "cell_type": "markdown",
   "id": "ff18f91b",
   "metadata": {},
   "source": [
    "# Depth of talent in relation to wins"
   ]
  },
  {
   "cell_type": "code",
   "execution_count": null,
   "id": "d4ac1a8e",
   "metadata": {},
   "outputs": [],
   "source": [
    "# Create a new dataframe with number of players over a certain % of the cap\n",
    "# 2% of the cap last year was just under 5 million dollars\n",
    "\n",
    "# player_salaries.head(60)\n",
    "\n",
    "# Filter players with cap_percentage over 2.0\n",
    "players_over_2_percent = player_salaries[player_salaries['cap_percentage'] > 2.0]\n",
    "\n",
    "# Group by year and team, then count players\n",
    "players_over_2_percent_by_team = players_over_2_percent.groupby(['year', 'team']).size().reset_index(name='players_over_2%')\n",
    "\n",
    "# Resetting the index for your desired format\n",
    "players_over_2_percent_by_team.reset_index(inplace=True)\n",
    "players_over_2_percent_by_team['index'] = players_over_2_percent_by_team.index + 3\n",
    "\n",
    "players_over_2_percent_by_team.head(60)\n",
    "\n"
   ]
  },
  {
   "cell_type": "code",
   "execution_count": null,
   "id": "a7398b00",
   "metadata": {},
   "outputs": [],
   "source": [
    "# players_over_2_percent_by_team\n",
    "\n",
    "# Plotting a histogram\n",
    "fig = px.histogram(players_over_2_percent_by_team, x='players_over_2%', nbins=50, title='Distribution of Salaries')\n",
    "fig.show()\n",
    "\n",
    "\n",
    "\n"
   ]
  },
  {
   "cell_type": "code",
   "execution_count": null,
   "id": "e836db92",
   "metadata": {},
   "outputs": [],
   "source": [
    "# merge dataframes\n",
    "\n",
    "# merge salaries with reg season wins\n",
    "roster_depth_with_reg_season_wins_df = pd.merge(players_over_2_percent_by_team, reg_season_wins, on=['year', 'team'], how='inner')\n",
    "\n",
    "# merge previous with playoff wins\n",
    "prev_and_postseason_wins_df = pd.merge(roster_depth_with_reg_season_wins_df, playoff_wins, on=['year', 'team'], how='left')\n",
    "\n",
    "# merge previous with superbowl wins\n",
    "roster_depth_and_full_season_wins = pd.merge(prev_and_postseason_wins_df, superbowl_wins, on=['year', 'team'], how='left')\n",
    "\n",
    "roster_depth_and_full_season_wins[['Playoff Wins', 'Won Superbowl?']] = roster_depth_and_full_season_wins[['Playoff Wins', 'Won Superbowl?']].fillna(0)\n",
    "\n",
    "\n",
    "\n",
    "roster_depth_and_full_season_wins.head(60)\n",
    "\n"
   ]
  },
  {
   "cell_type": "code",
   "execution_count": null,
   "id": "8b5841da",
   "metadata": {},
   "outputs": [],
   "source": [
    "# plot roster depth in relation to wins for the highest paid player on each team since 2011\n",
    "\n",
    "fig_wins_to_roster_depth = px.scatter(roster_depth_and_full_season_wins, x='players_over_2%', y='Win', hover_data=['team', 'year'], trendline='ols', trendline_color_override=\"red\", title='Wins vs Roster Depth')\n",
    "fig_wins_to_roster_depth.update_xaxes(title_text=\"Number of Players on Team Earning 2% of Cap or More\")\n",
    "\n",
    "fig_wins_to_roster_depth.show()\n",
    "\n",
    "# Save the graph\n",
    "file_path = os.path.join(output_directory, \"fig_wins_to_roster_depth\")\n",
    "fig_wins_to_roster_depth.write_image(file_path, format='png')"
   ]
  },
  {
   "cell_type": "markdown",
   "id": "fd9e2885",
   "metadata": {},
   "source": [
    "# Analyze spending by Offense/Defense\n"
   ]
  },
  {
   "cell_type": "code",
   "execution_count": null,
   "id": "296cb310",
   "metadata": {},
   "outputs": [],
   "source": [
    "# Define offensive and defensive positions\n",
    "offensive_positions = ['WR', 'QB', 'LT', 'RB', 'C', 'RT', 'TE', 'G', 'FB']\n",
    "defensive_positions = ['ILB', 'OLB', 'LB', 'CB', 'S', 'DE', 'DT']\n",
    "\n",
    "# Map positions to categories\n",
    "def map_to_category(pos):\n",
    "    if pos in offensive_positions:\n",
    "        return 'offense'\n",
    "    elif pos in defensive_positions:\n",
    "        return 'defense'\n",
    "    else:\n",
    "        return 'other'  # for any positions not listed in either list\n",
    "\n",
    "player_salaries['category'] = player_salaries['position'].apply(map_to_category)\n",
    "\n",
    "# Filter out rows that fall into the 'other' category (if any)\n",
    "player_salaries = player_salaries[player_salaries['category'] != 'other']\n",
    "\n",
    "# Group by year, team, and category, then sum up the cap_percentage values\n",
    "offense_defense_spending = player_salaries.groupby(['year', 'team', 'category'])['cap_percentage'].sum().unstack().reset_index()\n",
    "\n",
    "# Rename the columns\n",
    "offense_defense_spending.columns.name = None  # remove the top-level category name\n",
    "offense_defense_spending = offense_defense_spending.rename(columns={'offense': 'offense_spending', 'defense': 'defense_spending'})\n",
    "\n",
    "offense_defense_spending"
   ]
  },
  {
   "cell_type": "code",
   "execution_count": null,
   "id": "e59382b7",
   "metadata": {},
   "outputs": [],
   "source": [
    "# clean data and merge the offense/defense spending df with the wins/playoff wins/sb wins df\n",
    "\n",
    "\n",
    "# merge salaries with reg season wins\n",
    "offense_defense_spending_with_reg_season_wins_df = pd.merge(offense_defense_spending, reg_season_wins, on=['year', 'team'], how='inner')\n",
    "\n",
    "# merge previous with playoff wins\n",
    "prev_and_postseason_wins_df = pd.merge(offense_defense_spending_with_reg_season_wins_df, playoff_wins, on=['year', 'team'], how='left')\n",
    "\n",
    "# merge previous with superbowl wins\n",
    "offense_defense_spending_and_full_season_wins = pd.merge(prev_and_postseason_wins_df, superbowl_wins, on=['year', 'team'], how='left')\n",
    "\n",
    "offense_defense_spending_and_full_season_wins[['Playoff Wins', 'Won Superbowl?']] = offense_defense_spending_and_full_season_wins[['Playoff Wins', 'Won Superbowl?']].fillna(0)\n",
    "\n",
    "offense_defense_spending_and_full_season_wins\n",
    "\n"
   ]
  },
  {
   "cell_type": "code",
   "execution_count": null,
   "id": "ecc1ac58",
   "metadata": {},
   "outputs": [],
   "source": [
    "df = offense_defense_spending_and_full_season_wins\n",
    "\n",
    "# Create scatter plot\n",
    "fig_offense_spending_to_wins = px.scatter(df, x=\"offense_spending\", y=\"Win\", hover_data=[\"team\", \"year\"], \n",
    "                 title=\"Offensive Spending vs. Wins\",\n",
    "                 labels={\"offense_spending\": \"Offensive Spending (%)\", \"Win\": \"Wins\"},\n",
    "                 trendline='ols', \n",
    "                 trendline_color_override=\"red\",\n",
    "                )\n",
    "\n",
    "# Show plot\n",
    "fig_offense_spending_to_wins.show()\n",
    "\n",
    "# Save the graph\n",
    "file_path = os.path.join(output_directory, \"fig_offense_spending_to_wins\")\n",
    "fig_offense_spending_to_wins.write_image(file_path, format='png')"
   ]
  },
  {
   "cell_type": "code",
   "execution_count": null,
   "id": "22871bd6",
   "metadata": {},
   "outputs": [],
   "source": [
    "\n",
    "# Create scatter plot\n",
    "fig_defense_spending_to_wins = px.scatter(df, x=\"defense_spending\", y=\"Win\", hover_data=[\"team\", \"year\"], \n",
    "                 title=\"defense_spending vs. Wins\",\n",
    "                 labels={\"defense_spending\": \"defense_spending (%)\", \"Win\": \"Wins\"},\n",
    "                 trendline='ols', \n",
    "                 trendline_color_override=\"red\",\n",
    "                )\n",
    "\n",
    "\n",
    "# Show plot\n",
    "fig_defense_spending_to_wins.show()\n",
    "\n",
    "# Save the graph\n",
    "file_path = os.path.join(output_directory, \"fig_defense_spending_to_wins\")\n",
    "fig_defense_spending_to_wins.write_image(file_path, format='png')"
   ]
  },
  {
   "cell_type": "code",
   "execution_count": null,
   "id": "7be4446a",
   "metadata": {},
   "outputs": [],
   "source": [
    "\n",
    "playoff_teams_spending_df = offense_defense_spending_and_full_season_wins.loc[offense_defense_spending_and_full_season_wins['Playoff Wins'] >= 1].reset_index(drop=True)\n",
    "\n",
    "df = playoff_teams_spending_df\n",
    "\n",
    "# Create scatter plot\n",
    "fig_offense_spending_to_playoff_wins = px.scatter(df, x=\"offense_spending\", y=\"Playoff Wins\", hover_data=[\"team\", \"year\"], \n",
    "                 title=\"Offensive Spending vs. Playoff Wins\",\n",
    "                 labels={\"offense_spending\": \"Offensive Spending (%)\", \"Playoff Wins\": \"Playoff Wins\"},\n",
    "                 trendline='ols', \n",
    "                 trendline_color_override=\"red\",\n",
    "                 height=500,\n",
    "                 width= 800\n",
    "                )\n",
    "\n",
    "# Update y-axis to show only whole numbers\n",
    "fig_offense_spending_to_playoff_wins.update_yaxes(dtick=1)\n",
    "\n",
    "# Show plot\n",
    "fig_offense_spending_to_playoff_wins.show()\n",
    "\n",
    "# Save the graph\n",
    "file_path = os.path.join(output_directory, \"fig_offense_spending_to_playoff_wins\")\n",
    "fig_offense_spending_to_playoff_wins.write_image(file_path, format='png')"
   ]
  },
  {
   "cell_type": "code",
   "execution_count": null,
   "id": "91f55586",
   "metadata": {},
   "outputs": [],
   "source": [
    "playoff_teams_spending_df = offense_defense_spending_and_full_season_wins.loc[offense_defense_spending_and_full_season_wins['Win'] >= 10].reset_index(drop=True)\n",
    "\n",
    "df = playoff_teams_spending_df\n",
    "\n",
    "# Create scatter plot\n",
    "fig_defense_spending_to_playoff_wins = px.scatter(df, x=\"defense_spending\", y=\"Playoff Wins\", hover_data=[\"team\", \"year\"], \n",
    "                 title=\"defense_spending vs. Playoff Wins\",\n",
    "                 labels={\"defense_spending\": \"defense_spending (%)\", \"Playoff Wins\": \"Playoff Wins\"},\n",
    "                 trendline='ols', \n",
    "                 trendline_color_override=\"red\",\n",
    "                )\n",
    "\n",
    "# Show plot\n",
    "fig_defense_spending_to_playoff_wins.show()\n",
    "\n",
    "# Save the graph\n",
    "file_path = os.path.join(output_directory, \"fig_defense_spending_to_playoff_wins\")\n",
    "fig_defense_spending_to_playoff_wins.write_image(file_path, format='png')"
   ]
  },
  {
   "cell_type": "markdown",
   "id": "42a456e5",
   "metadata": {},
   "source": [
    "# Analyze spending by Position Group, Offense and Defense\n",
    "\n",
    "\n"
   ]
  },
  {
   "cell_type": "code",
   "execution_count": null,
   "id": "3bfee7a4",
   "metadata": {},
   "outputs": [],
   "source": [
    "# player_salaries\n",
    "\n",
    "# Step 1: Mapping positions to groups\n",
    "position_groups = {\n",
    "    'C': 'Offensive_Line',\n",
    "    'LT': 'Offensive_Line',\n",
    "    'RT': 'Offensive_Line',\n",
    "    'G': 'Offensive_Line',\n",
    "    'WR': 'Receivers',\n",
    "    'TE': 'Receivers',\n",
    "    'RB': 'Running_Backs',\n",
    "    'FB': 'Running_Backs',\n",
    "    'S': 'Secondary',\n",
    "    'CB': 'Secondary',\n",
    "    'OLB': 'Linebackers',\n",
    "    'ILB': 'Linebackers',\n",
    "    'DT': 'Defensive_Line',\n",
    "    'DE': 'Defensive_Line',\n",
    "    'QB': 'QB'\n",
    "}\n",
    "\n",
    "# Map positions in the dataframe to their respective groups\n",
    "player_salaries.loc[:, 'position_group'] = player_salaries['position'].map(position_groups)\n",
    "\n",
    "# Step 2: Aggregate the data and Step 3: Calculate the average\n",
    "grouped_player_salaries = (\n",
    "    player_salaries.groupby(['year', 'team', 'position_group'])\n",
    "    .agg(total_cap_percentage=('cap_percentage', 'sum'), \n",
    "         player_count=('position', 'size'))\n",
    "    .reset_index()\n",
    ")\n",
    "grouped_player_salaries['avg_cap_percentage_per_player'] = grouped_player_salaries['total_cap_percentage'] / grouped_player_salaries['player_count']\n",
    "\n",
    "# Step 4: Reshape the data\n",
    "pivot_player_salaries = (\n",
    "    grouped_player_salaries.pivot_table(index=['year', 'team'], \n",
    "                           columns='position_group', \n",
    "                           values='avg_cap_percentage_per_player')\n",
    "    .reset_index()\n",
    ")\n",
    "\n",
    "pivot_player_salaries.columns.name = None  # Removing the name of columns for cleanliness\n",
    "\n",
    "# Displaying the result\n",
    "pivot_player_salaries.head(60)\n",
    "\n"
   ]
  },
  {
   "cell_type": "code",
   "execution_count": null,
   "id": "328d6421",
   "metadata": {},
   "outputs": [],
   "source": [
    "# Join with wins and losses\n",
    "pivot_player_salaries\n",
    "\n",
    "with_reg_season_wins_df = pd.merge(pivot_player_salaries, reg_season_wins, on=['year', 'team'], how='inner')\n",
    "\n",
    "# merge with playoff wins\n",
    "position_spending_total_wins = pd.merge(with_reg_season_wins_df, playoff_wins, on=['year', 'team'], how='left')\n",
    "\n",
    "# normalize the NANs\n",
    "position_spending_total_wins['Playoff Wins'].fillna(0, inplace=True)\n",
    "\n",
    "\n",
    "position_spending_total_wins"
   ]
  },
  {
   "cell_type": "code",
   "execution_count": null,
   "id": "f19b6bb1",
   "metadata": {},
   "outputs": [],
   "source": [
    "# Calculate the percentage for each team based on position columns\n",
    "\n",
    "df = position_spending_total_wins\n",
    "\n",
    "defense_columns = ['Defensive_Line', 'Linebackers', 'Secondary']\n",
    "defense_colors = ['red', 'blue', 'green']\n",
    "\n",
    "# Plotting each position_column separately with its color\n",
    "for position, color in zip(defense_columns, defense_colors):\n",
    "    plt.scatter(df[position], df['Win'], c=color, label=position, alpha=0.7)\n",
    "\n",
    "plt.xlabel('Percent of the cap, per player, per position')\n",
    "plt.ylabel('Wins')\n",
    "plt.title('Wins per position spending, per player')\n",
    "plt.grid(True)\n",
    "plt.legend()\n",
    "\n",
    "# Save the graph\n",
    "plt.savefig(os.path.join(output_directory, \"wins_per_position_per_player_chart.png\"))\n",
    "\n",
    "plt.show()\n",
    "\n",
    "\n"
   ]
  },
  {
   "cell_type": "code",
   "execution_count": null,
   "id": "40b2f967",
   "metadata": {},
   "outputs": [],
   "source": [
    "# Calculate the percentage for each team based on offensive columns\n",
    "\n",
    "offense_columns = ['Running_Backs', 'Receivers', 'Offensive_Line' ]\n",
    "offense_colors = ['purple', 'orange', 'cyan']\n",
    "\n",
    "# Plotting each position_column separately with its color\n",
    "for position, color in zip(offense_columns, offense_colors):\n",
    "    plt.scatter(df[position], df['Win'], c=color, label=position, alpha=0.5)\n",
    "\n",
    "plt.xlabel('Percent of the cap, per player, per position')\n",
    "plt.ylabel('Wins')\n",
    "plt.title('Wins per position spending, per player')\n",
    "plt.grid(True)\n",
    "plt.legend()\n",
    "\n",
    "# Save the graph\n",
    "plt.savefig(os.path.join(output_directory, \"wins_per_position_per_player_chart_offense.png\"))\n",
    "\n",
    "\n",
    "plt.show()"
   ]
  },
  {
   "cell_type": "code",
   "execution_count": null,
   "id": "2489b254",
   "metadata": {},
   "outputs": [],
   "source": [
    "# Plotting each position_column separately with its color for playoff wins\n",
    "for position, color in zip(defense_columns, defense_colors):\n",
    "    plt.scatter(df[position], df['Playoff Wins'], c=color, label=position, alpha=0.7)\n",
    "\n",
    "plt.xlabel('Percent of the cap, per player, per position')\n",
    "plt.ylabel('Playoff Wins')\n",
    "plt.title('Playoff Wins per position spending, per player')\n",
    "plt.grid(True)\n",
    "plt.legend()\n",
    "\n",
    "# Save the graph\n",
    "plt.savefig(os.path.join(output_directory, \"Playoff_wins_per_position_per_player_chart_defense.png\"))\n",
    "\n",
    "\n",
    "plt.show()"
   ]
  },
  {
   "cell_type": "code",
   "execution_count": null,
   "id": "da98d659",
   "metadata": {},
   "outputs": [],
   "source": [
    "# Calculate the percentage for each team based on offensive columns\n",
    "offense_columns = ['QB','Running_Backs', 'Receivers', 'Offensive_Line' ]\n",
    "offense_colors = ['purple', 'orange', 'cyan', 'brown']\n",
    "\n",
    "# Plotting each position_column separately with its color\n",
    "for position, color in zip(offense_columns, offense_colors):\n",
    "    plt.scatter(df[position], df['Playoff Wins'], c=color, label=position, alpha=0.5)\n",
    "\n",
    "plt.xlabel('Percent of the cap, per player, per position')\n",
    "plt.ylabel('Playoff Wins')\n",
    "plt.title('Playoff Wins per position spending, per player')\n",
    "plt.grid(True)\n",
    "plt.legend()\n",
    "\n",
    "# Save the graph\n",
    "plt.savefig(os.path.join(output_directory, \"Playoff_wins_per_position_per_player_chart_o.png\"))\n",
    "\n",
    "plt.show()"
   ]
  },
  {
   "cell_type": "code",
   "execution_count": null,
   "id": "f95e024c",
   "metadata": {},
   "outputs": [],
   "source": []
  }
 ],
 "metadata": {
  "kernelspec": {
   "display_name": "Python 3 (ipykernel)",
   "language": "python",
   "name": "python3"
  },
  "language_info": {
   "codemirror_mode": {
    "name": "ipython",
    "version": 3
   },
   "file_extension": ".py",
   "mimetype": "text/x-python",
   "name": "python",
   "nbconvert_exporter": "python",
   "pygments_lexer": "ipython3",
   "version": "3.10.9"
  }
 },
 "nbformat": 4,
 "nbformat_minor": 5
}
